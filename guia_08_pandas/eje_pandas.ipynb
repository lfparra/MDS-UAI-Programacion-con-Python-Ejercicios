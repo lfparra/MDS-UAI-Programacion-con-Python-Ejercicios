{
 "metadata": {
  "language_info": {
   "codemirror_mode": {
    "name": "ipython",
    "version": 3
   },
   "file_extension": ".py",
   "mimetype": "text/x-python",
   "name": "python",
   "nbconvert_exporter": "python",
   "pygments_lexer": "ipython3",
   "version": "3.9.5"
  },
  "orig_nbformat": 4,
  "kernelspec": {
   "name": "python3",
   "display_name": "Python 3.9.5 64-bit ('3.9')"
  },
  "interpreter": {
   "hash": "7812ea015bdcee6f23a998adcdd2ef97c151c0c241b7b7070987d9313e41299d"
  }
 },
 "nbformat": 4,
 "nbformat_minor": 2,
 "cells": [
  {
   "source": [
    "1. De una lista de deportes indicados en el archivo athlete_events.csv, liste todos los deportes que se han realizado en la historia de los juegos olímpicos en orden alfabético"
   ],
   "cell_type": "markdown",
   "metadata": {}
  },
  {
   "cell_type": "code",
   "execution_count": 27,
   "metadata": {},
   "outputs": [
    {
     "output_type": "stream",
     "name": "stdout",
     "text": [
      "['Aeronautics' 'Alpine Skiing' 'Alpinism' 'Archery' 'Art Competitions'\n 'Athletics' 'Badminton' 'Baseball' 'Basketball' 'Basque Pelota'\n 'Beach Volleyball' 'Biathlon' 'Bobsleigh' 'Boxing' 'Canoeing' 'Cricket'\n 'Croquet' 'Cross Country Skiing' 'Curling' 'Cycling' 'Diving'\n 'Equestrianism' 'Fencing' 'Figure Skating' 'Football' 'Freestyle Skiing'\n 'Golf' 'Gymnastics' 'Handball' 'Hockey' 'Ice Hockey' 'Jeu De Paume'\n 'Judo' 'Lacrosse' 'Luge' 'Military Ski Patrol' 'Modern Pentathlon'\n 'Motorboating' 'Nordic Combined' 'Polo' 'Racquets' 'Rhythmic Gymnastics'\n 'Roque' 'Rowing' 'Rugby' 'Rugby Sevens' 'Sailing' 'Shooting'\n 'Short Track Speed Skating' 'Skeleton' 'Ski Jumping' 'Snowboarding'\n 'Softball' 'Speed Skating' 'Swimming' 'Synchronized Swimming'\n 'Table Tennis' 'Taekwondo' 'Tennis' 'Trampolining' 'Triathlon'\n 'Tug-Of-War' 'Volleyball' 'Water Polo' 'Weightlifting' 'Wrestling']\n"
     ]
    }
   ],
   "source": [
    "import pandas as pd\n",
    "import numpy as np\n",
    "\n",
    "df = pd.read_csv('athlete_events.csv')\n",
    "print(np.sort(df['Sport'].unique()))"
   ]
  },
  {
   "source": [
    "2. Implemente una función que solicite al usuario un deporte, y busque en la base de datos todos los años en que se ha realizado dicho deporte."
   ],
   "cell_type": "markdown",
   "metadata": {}
  },
  {
   "cell_type": "code",
   "execution_count": 29,
   "metadata": {},
   "outputs": [
    {
     "output_type": "execute_result",
     "data": {
      "text/plain": [
       "array([1964, 1968, 1972, 1976, 1980, 1984, 1988, 1992, 1996, 2000, 2004,\n",
       "       2008, 2012, 2016])"
      ]
     },
     "metadata": {},
     "execution_count": 29
    }
   ],
   "source": [
    "def sport(name):\n",
    "    import pandas as pd\n",
    "    import numpy as np\n",
    "    df = pd.read_csv('athlete_events.csv')\n",
    "    df_sport = df[df['Sport'] == name] # Recibe el nombre del parámetro\n",
    "    return np.sort(df_sport['Year'].unique())\n",
    "\n",
    "x = input('Ingrese un deporte: ')\n",
    "sport(x)"
   ]
  },
  {
   "source": [
    "3. Implemente una función que solicite al usuario un deporte, y busque en la base de datos el año con menor y mayor cantidad de atletas en dicho deporte."
   ],
   "cell_type": "markdown",
   "metadata": {}
  },
  {
   "cell_type": "code",
   "execution_count": 112,
   "metadata": {},
   "outputs": [
    {
     "output_type": "stream",
     "name": "stdout",
     "text": [
      "El año con menor cantidad de atletas es 1956 169 en cambio el año con mayor canntidad de atletas es 1952 294\n"
     ]
    }
   ],
   "source": [
    "def min_max(name):\n",
    "    import pandas as pd\n",
    "    import numpy as np\n",
    "    df = pd.read_csv('athlete_events.csv')\n",
    "    df_sport = df[df['Sport'] == name]\n",
    "    df_sport_count = df_sport.groupby('Year').nunique()['Name'].reset_index(name = 'Count')\n",
    "\n",
    "    # Identificar los valores máximo y mínimo\n",
    "    i_max = df_sport_count['Count'].max()\n",
    "    i_min = df_sport_count['Count'].min()\n",
    "\n",
    "    # Buscar el registro dentro del DataFrame \n",
    "    max = df_sport_count[df_sport_count['Count'] == i_max]\n",
    "    min = df_sport_count[df_sport_count['Count'] == i_min]\n",
    "\n",
    "    return max, min\n",
    "\n",
    "x = input('Ingrese un deporte: ')\n",
    "max, min = min_max(x)\n",
    "\n",
    "print('El año con menor cantidad de atletas es', min['Year'].iloc[0], min['Count'].iloc[0], 'en cambio el año con mayor canntidad de atletas es', max['Year'].iloc[0], max['Count'].iloc[0])"
   ]
  },
  {
   "cell_type": "code",
   "execution_count": null,
   "metadata": {},
   "outputs": [],
   "source": []
  }
 ]
}