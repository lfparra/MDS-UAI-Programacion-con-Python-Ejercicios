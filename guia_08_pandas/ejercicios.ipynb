{
 "metadata": {
  "language_info": {
   "codemirror_mode": {
    "name": "ipython",
    "version": 3
   },
   "file_extension": ".py",
   "mimetype": "text/x-python",
   "name": "python",
   "nbconvert_exporter": "python",
   "pygments_lexer": "ipython3",
   "version": "3.9.5"
  },
  "orig_nbformat": 4,
  "kernelspec": {
   "name": "python3",
   "display_name": "Python 3.9.5 64-bit"
  },
  "interpreter": {
   "hash": "ac59ebe37160ed0dfa835113d9b8498d9f09ceb179beaac4002f036b9467c963"
  }
 },
 "nbformat": 4,
 "nbformat_minor": 2,
 "cells": [
  {
   "cell_type": "code",
   "execution_count": 27,
   "metadata": {},
   "outputs": [],
   "source": [
    "import pandas as pd\n",
    "import numpy as np"
   ]
  },
  {
   "cell_type": "code",
   "execution_count": 25,
   "metadata": {},
   "outputs": [
    {
     "output_type": "execute_result",
     "data": {
      "text/plain": [
       "   ID                      Name Sex   Age  Height  Weight            Team  \\\n",
       "0   1                 A Dijiang   M  24.0   180.0    80.0           China   \n",
       "1   2                  A Lamusi   M  23.0   170.0    60.0           China   \n",
       "2   3       Gunnar Nielsen Aaby   M  24.0     NaN     NaN         Denmark   \n",
       "3   4      Edgar Lindenau Aabye   M  34.0     NaN     NaN  Denmark/Sweden   \n",
       "4   5  Christine Jacoba Aaftink   F  21.0   185.0    82.0     Netherlands   \n",
       "\n",
       "   NOC        Games  Year  Season       City          Sport  \\\n",
       "0  CHN  1992 Summer  1992  Summer  Barcelona     Basketball   \n",
       "1  CHN  2012 Summer  2012  Summer     London           Judo   \n",
       "2  DEN  1920 Summer  1920  Summer  Antwerpen       Football   \n",
       "3  DEN  1900 Summer  1900  Summer      Paris     Tug-Of-War   \n",
       "4  NED  1988 Winter  1988  Winter    Calgary  Speed Skating   \n",
       "\n",
       "                              Event Medal  \n",
       "0       Basketball Men's Basketball   NaN  \n",
       "1      Judo Men's Extra-Lightweight   NaN  \n",
       "2           Football Men's Football   NaN  \n",
       "3       Tug-Of-War Men's Tug-Of-War  Gold  \n",
       "4  Speed Skating Women's 500 metres   NaN  "
      ],
      "text/html": "<div>\n<style scoped>\n    .dataframe tbody tr th:only-of-type {\n        vertical-align: middle;\n    }\n\n    .dataframe tbody tr th {\n        vertical-align: top;\n    }\n\n    .dataframe thead th {\n        text-align: right;\n    }\n</style>\n<table border=\"1\" class=\"dataframe\">\n  <thead>\n    <tr style=\"text-align: right;\">\n      <th></th>\n      <th>ID</th>\n      <th>Name</th>\n      <th>Sex</th>\n      <th>Age</th>\n      <th>Height</th>\n      <th>Weight</th>\n      <th>Team</th>\n      <th>NOC</th>\n      <th>Games</th>\n      <th>Year</th>\n      <th>Season</th>\n      <th>City</th>\n      <th>Sport</th>\n      <th>Event</th>\n      <th>Medal</th>\n    </tr>\n  </thead>\n  <tbody>\n    <tr>\n      <th>0</th>\n      <td>1</td>\n      <td>A Dijiang</td>\n      <td>M</td>\n      <td>24.0</td>\n      <td>180.0</td>\n      <td>80.0</td>\n      <td>China</td>\n      <td>CHN</td>\n      <td>1992 Summer</td>\n      <td>1992</td>\n      <td>Summer</td>\n      <td>Barcelona</td>\n      <td>Basketball</td>\n      <td>Basketball Men's Basketball</td>\n      <td>NaN</td>\n    </tr>\n    <tr>\n      <th>1</th>\n      <td>2</td>\n      <td>A Lamusi</td>\n      <td>M</td>\n      <td>23.0</td>\n      <td>170.0</td>\n      <td>60.0</td>\n      <td>China</td>\n      <td>CHN</td>\n      <td>2012 Summer</td>\n      <td>2012</td>\n      <td>Summer</td>\n      <td>London</td>\n      <td>Judo</td>\n      <td>Judo Men's Extra-Lightweight</td>\n      <td>NaN</td>\n    </tr>\n    <tr>\n      <th>2</th>\n      <td>3</td>\n      <td>Gunnar Nielsen Aaby</td>\n      <td>M</td>\n      <td>24.0</td>\n      <td>NaN</td>\n      <td>NaN</td>\n      <td>Denmark</td>\n      <td>DEN</td>\n      <td>1920 Summer</td>\n      <td>1920</td>\n      <td>Summer</td>\n      <td>Antwerpen</td>\n      <td>Football</td>\n      <td>Football Men's Football</td>\n      <td>NaN</td>\n    </tr>\n    <tr>\n      <th>3</th>\n      <td>4</td>\n      <td>Edgar Lindenau Aabye</td>\n      <td>M</td>\n      <td>34.0</td>\n      <td>NaN</td>\n      <td>NaN</td>\n      <td>Denmark/Sweden</td>\n      <td>DEN</td>\n      <td>1900 Summer</td>\n      <td>1900</td>\n      <td>Summer</td>\n      <td>Paris</td>\n      <td>Tug-Of-War</td>\n      <td>Tug-Of-War Men's Tug-Of-War</td>\n      <td>Gold</td>\n    </tr>\n    <tr>\n      <th>4</th>\n      <td>5</td>\n      <td>Christine Jacoba Aaftink</td>\n      <td>F</td>\n      <td>21.0</td>\n      <td>185.0</td>\n      <td>82.0</td>\n      <td>Netherlands</td>\n      <td>NED</td>\n      <td>1988 Winter</td>\n      <td>1988</td>\n      <td>Winter</td>\n      <td>Calgary</td>\n      <td>Speed Skating</td>\n      <td>Speed Skating Women's 500 metres</td>\n      <td>NaN</td>\n    </tr>\n  </tbody>\n</table>\n</div>"
     },
     "metadata": {},
     "execution_count": 25
    }
   ],
   "source": [
    "df = pd.read_csv('athlete_events.csv')\n",
    "df.head()"
   ]
  },
  {
   "cell_type": "code",
   "execution_count": 33,
   "metadata": {},
   "outputs": [
    {
     "output_type": "execute_result",
     "data": {
      "text/plain": [
       "array(['Aeronautics', 'Alpine Skiing', 'Alpinism', 'Archery',\n",
       "       'Art Competitions', 'Athletics', 'Badminton', 'Baseball',\n",
       "       'Basketball', 'Basque Pelota', 'Beach Volleyball', 'Biathlon',\n",
       "       'Bobsleigh', 'Boxing', 'Canoeing', 'Cricket', 'Croquet',\n",
       "       'Cross Country Skiing', 'Curling', 'Cycling', 'Diving',\n",
       "       'Equestrianism', 'Fencing', 'Figure Skating', 'Football',\n",
       "       'Freestyle Skiing', 'Golf', 'Gymnastics', 'Handball', 'Hockey',\n",
       "       'Ice Hockey', 'Jeu De Paume', 'Judo', 'Lacrosse', 'Luge',\n",
       "       'Military Ski Patrol', 'Modern Pentathlon', 'Motorboating',\n",
       "       'Nordic Combined', 'Polo', 'Racquets', 'Rhythmic Gymnastics',\n",
       "       'Roque', 'Rowing', 'Rugby', 'Rugby Sevens', 'Sailing', 'Shooting',\n",
       "       'Short Track Speed Skating', 'Skeleton', 'Ski Jumping',\n",
       "       'Snowboarding', 'Softball', 'Speed Skating', 'Swimming',\n",
       "       'Synchronized Swimming', 'Table Tennis', 'Taekwondo', 'Tennis',\n",
       "       'Trampolining', 'Triathlon', 'Tug-Of-War', 'Volleyball',\n",
       "       'Water Polo', 'Weightlifting', 'Wrestling'], dtype=object)"
      ]
     },
     "metadata": {},
     "execution_count": 33
    }
   ],
   "source": [
    "deportes = np.sort(df['Sport'].unique())\n",
    "deportes"
   ]
  },
  {
   "source": [
    "2. Implemente una función que solicite al usuario un deporte, y busque en la base de datos todos los\n",
    "años en que se ha realizado dicho deporte."
   ],
   "cell_type": "markdown",
   "metadata": {}
  },
  {
   "cell_type": "code",
   "execution_count": 54,
   "metadata": {},
   "outputs": [],
   "source": [
    "def año_deporte(deporte):\n",
    "    df_sport = df[df['Sport'] == deporte]\n",
    "    df_sport_year = np.sort(df_sport['Year'].unique())\n",
    "    return df_sport_year"
   ]
  },
  {
   "cell_type": "code",
   "execution_count": 53,
   "metadata": {},
   "outputs": [
    {
     "output_type": "execute_result",
     "data": {
      "text/plain": [
       "array([1900, 1904, 1906, 1908, 1912, 1920, 1924, 1928, 1936, 1948, 1952,\n",
       "       1956, 1960, 1964, 1968, 1972, 1976, 1980, 1984, 1988, 1992, 1996,\n",
       "       2000, 2004, 2008, 2012, 2016], dtype=int64)"
      ]
     },
     "metadata": {},
     "execution_count": 53
    }
   ],
   "source": [
    "deporte = input('Ingrese un deporte: ')\n",
    "df_sport = df[df['Sport'] == deporte]\n",
    "df_sport_year = np.sort(df_sport['Year'].unique())\n",
    "df_sport_year"
   ]
  },
  {
   "cell_type": "code",
   "execution_count": 55,
   "metadata": {},
   "outputs": [
    {
     "output_type": "execute_result",
     "data": {
      "text/plain": [
       "array([1900, 1904, 1906, 1908, 1912, 1920, 1924, 1928, 1936, 1948, 1952,\n",
       "       1956, 1960, 1964, 1968, 1972, 1976, 1980, 1984, 1988, 1992, 1996,\n",
       "       2000, 2004, 2008, 2012, 2016], dtype=int64)"
      ]
     },
     "metadata": {},
     "execution_count": 55
    }
   ],
   "source": [
    "deporte = input('Ingrese un deporte: ')\n",
    "año_deporte(deporte)"
   ]
  },
  {
   "source": [
    "3. Implemente una función que solicite al usuario un deporte, y busque en la base de datos el año con\n",
    "menor y mayor cantidad de atletas en dicho deporte."
   ],
   "cell_type": "markdown",
   "metadata": {}
  },
  {
   "cell_type": "code",
   "execution_count": 85,
   "metadata": {},
   "outputs": [
    {
     "output_type": "stream",
     "name": "stdout",
     "text": [
      "El Football tuvo mayor cantidad de deportistas el año 2016 con un total de 473\nEl Football tuvo menor cantidad de deportistas el año 1900 con un total de 35\n"
     ]
    }
   ],
   "source": [
    "deporte = input('Ingrese un deporte: ')\n",
    "df_sport = df[df['Sport'] == deporte]\n",
    "df_sport_players_year =  df_sport.groupby('Year').nunique()['Name'].reset_index()\n",
    "\n",
    "df_sport_players_year_max = df_sport_players_year[['Name', 'Year']].max()\n",
    "\n",
    "df_sport_players_year_min = df_sport_players_year[['Name', 'Year']].min()\n",
    "\n",
    "\"\"\" print(deporte)\n",
    "print(df_sport_players_year_max[0])\n",
    "print(df_sport_players_year_max[1]) \"\"\"\n",
    "\n",
    "print(f'El {deporte} tuvo mayor cantidad de deportistas el año {df_sport_players_year_max[1]} con un total de {df_sport_players_year_max[0]}.')\n",
    "print(f'El {deporte} tuvo menor cantidad de deportistas el año {df_sport_players_year_min[1]} con un total de {df_sport_players_year_min[0]}.')\n",
    "\n",
    "\n"
   ]
  },
  {
   "cell_type": "code",
   "execution_count": 86,
   "metadata": {},
   "outputs": [
    {
     "output_type": "execute_result",
     "data": {
      "text/plain": [
       "    Year  Name\n",
       "26  2016   473"
      ],
      "text/html": "<div>\n<style scoped>\n    .dataframe tbody tr th:only-of-type {\n        vertical-align: middle;\n    }\n\n    .dataframe tbody tr th {\n        vertical-align: top;\n    }\n\n    .dataframe thead th {\n        text-align: right;\n    }\n</style>\n<table border=\"1\" class=\"dataframe\">\n  <thead>\n    <tr style=\"text-align: right;\">\n      <th></th>\n      <th>Year</th>\n      <th>Name</th>\n    </tr>\n  </thead>\n  <tbody>\n    <tr>\n      <th>26</th>\n      <td>2016</td>\n      <td>473</td>\n    </tr>\n  </tbody>\n</table>\n</div>"
     },
     "metadata": {},
     "execution_count": 86
    }
   ],
   "source": [
    "deporte = 'Football'\n",
    "df_sport = df[df['Sport']== deporte]\n",
    "df_sport_players_year = df_sport.groupby('Year').nunique()['Name'].reset_index()\n",
    "maximo = df_sport_players_year['Name'].max()\n",
    "df_sport_players_year[df_sport_players_year['Name'] == maximo]"
   ]
  }
 ]
}